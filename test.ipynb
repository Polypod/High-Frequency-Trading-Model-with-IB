{
 "cells": [
  {
   "cell_type": "code",
   "execution_count": 6,
   "metadata": {},
   "outputs": [],
   "source": [
    "import ib_insync as ib\n",
    "from ib_insync import *\n",
    "from util import order_util\n",
    "\n",
    "util.startLoop()\n"
   ]
  },
  {
   "cell_type": "code",
   "execution_count": 7,
   "metadata": {
    "pycharm": {
     "name": "#%%\n"
    }
   },
   "outputs": [],
   "source": [
    "import pandas as pd\n",
    "import numpy as np\n",
    "\n",
    "from util import dt_util\n",
    "import ta\n",
    "\n",
    "ib = IB()"
   ]
  },
  {
   "cell_type": "code",
   "execution_count": 8,
   "metadata": {},
   "outputs": [
    {
     "data": {
      "text/plain": [
       "<IB connected to 127.0.0.1:7497 clientId=11>"
      ]
     },
     "execution_count": 8,
     "metadata": {},
     "output_type": "execute_result"
    }
   ],
   "source": [
    "ib.connect(host='127.0.0.1', port=7497, clientId=11)"
   ]
  },
  {
   "cell_type": "code",
   "execution_count": 9,
   "metadata": {
    "pycharm": {
     "name": "#%%\n"
    }
   },
   "outputs": [
    {
     "name": "stdout",
     "output_type": "stream",
     "text": [
      "0      47.00\n",
      "1      47.00\n",
      "2      47.14\n",
      "3      47.18\n",
      "4      47.05\n",
      "       ...  \n",
      "251    47.32\n",
      "252    47.42\n",
      "253    47.34\n",
      "254    47.36\n",
      "255    47.29\n",
      "Name: close, Length: 256, dtype: float64\n"
     ]
    },
    {
     "data": {
      "text/html": [
       "<div>\n",
       "<style scoped>\n",
       "    .dataframe tbody tr th:only-of-type {\n",
       "        vertical-align: middle;\n",
       "    }\n",
       "\n",
       "    .dataframe tbody tr th {\n",
       "        vertical-align: top;\n",
       "    }\n",
       "\n",
       "    .dataframe thead th {\n",
       "        text-align: right;\n",
       "    }\n",
       "</style>\n",
       "<table border=\"1\" class=\"dataframe\">\n",
       "  <thead>\n",
       "    <tr style=\"text-align: right;\">\n",
       "      <th></th>\n",
       "      <th>date</th>\n",
       "      <th>open</th>\n",
       "      <th>high</th>\n",
       "      <th>low</th>\n",
       "      <th>close</th>\n",
       "      <th>volume</th>\n",
       "      <th>average</th>\n",
       "      <th>barCount</th>\n",
       "    </tr>\n",
       "  </thead>\n",
       "  <tbody>\n",
       "    <tr>\n",
       "      <th>0</th>\n",
       "      <td>2021-12-02 15:30:00</td>\n",
       "      <td>47.24</td>\n",
       "      <td>47.24</td>\n",
       "      <td>46.93</td>\n",
       "      <td>47.00</td>\n",
       "      <td>35.17</td>\n",
       "      <td>47.032</td>\n",
       "      <td>19</td>\n",
       "    </tr>\n",
       "    <tr>\n",
       "      <th>1</th>\n",
       "      <td>2021-12-02 15:31:00</td>\n",
       "      <td>46.93</td>\n",
       "      <td>47.06</td>\n",
       "      <td>46.90</td>\n",
       "      <td>47.00</td>\n",
       "      <td>2100.12</td>\n",
       "      <td>46.939</td>\n",
       "      <td>239</td>\n",
       "    </tr>\n",
       "    <tr>\n",
       "      <th>2</th>\n",
       "      <td>2021-12-02 15:32:00</td>\n",
       "      <td>47.05</td>\n",
       "      <td>47.25</td>\n",
       "      <td>47.04</td>\n",
       "      <td>47.14</td>\n",
       "      <td>552.75</td>\n",
       "      <td>47.154</td>\n",
       "      <td>292</td>\n",
       "    </tr>\n",
       "    <tr>\n",
       "      <th>3</th>\n",
       "      <td>2021-12-02 15:33:00</td>\n",
       "      <td>47.15</td>\n",
       "      <td>47.35</td>\n",
       "      <td>47.11</td>\n",
       "      <td>47.18</td>\n",
       "      <td>982.83</td>\n",
       "      <td>47.244</td>\n",
       "      <td>340</td>\n",
       "    </tr>\n",
       "    <tr>\n",
       "      <th>4</th>\n",
       "      <td>2021-12-02 15:34:00</td>\n",
       "      <td>47.17</td>\n",
       "      <td>47.28</td>\n",
       "      <td>47.01</td>\n",
       "      <td>47.05</td>\n",
       "      <td>299.24</td>\n",
       "      <td>47.179</td>\n",
       "      <td>173</td>\n",
       "    </tr>\n",
       "  </tbody>\n",
       "</table>\n",
       "</div>"
      ],
      "text/plain": [
       "                 date   open   high    low  close   volume  average  barCount\n",
       "0 2021-12-02 15:30:00  47.24  47.24  46.93  47.00    35.17   47.032        19\n",
       "1 2021-12-02 15:31:00  46.93  47.06  46.90  47.00  2100.12   46.939       239\n",
       "2 2021-12-02 15:32:00  47.05  47.25  47.04  47.14   552.75   47.154       292\n",
       "3 2021-12-02 15:33:00  47.15  47.35  47.11  47.18   982.83   47.244       340\n",
       "4 2021-12-02 15:34:00  47.17  47.28  47.01  47.05   299.24   47.179       173"
      ]
     },
     "execution_count": 9,
     "metadata": {},
     "output_type": "execute_result"
    }
   ],
   "source": [
    "contract = Stock('SNAP', 'SMART', 'USD')\n",
    "\n",
    "bars = ib.reqHistoricalData(\n",
    "    contract,\n",
    "    endDateTime='', # time.strftime('%Y%m%d %H:%M:%S'),\n",
    "    durationStr='1 D',\n",
    "    barSizeSetting='1 min',\n",
    "    whatToShow='TRADES',\n",
    "    useRTH=True,\n",
    "    formatDate=1,\n",
    "    keepUpToDate=True\n",
    "    )\n",
    "\n",
    "df = util.df(bars)\n",
    "print(df['close'])\n",
    "df.head()"
   ]
  },
  {
   "cell_type": "code",
   "execution_count": 10,
   "metadata": {},
   "outputs": [
    {
     "ename": "NameError",
     "evalue": "name 'self' is not defined",
     "output_type": "error",
     "traceback": [
      "\u001B[0;31m---------------------------------------------------------------------------\u001B[0m",
      "\u001B[0;31mNameError\u001B[0m                                 Traceback (most recent call last)",
      "\u001B[0;32m/tmp/ipykernel_100513/2335343048.py\u001B[0m in \u001B[0;36m<module>\u001B[0;34m\u001B[0m\n\u001B[0;32m----> 1\u001B[0;31m \u001B[0;32mfor\u001B[0m \u001B[0mbar\u001B[0m \u001B[0;32min\u001B[0m \u001B[0mself\u001B[0m\u001B[0;34m.\u001B[0m\u001B[0mbars\u001B[0m\u001B[0;34m:\u001B[0m\u001B[0;34m\u001B[0m\u001B[0;34m\u001B[0m\u001B[0m\n\u001B[0m\u001B[1;32m      2\u001B[0m     \u001B[0mcloses\u001B[0m\u001B[0;34m.\u001B[0m\u001B[0mappend\u001B[0m\u001B[0;34m(\u001B[0m\u001B[0mbar\u001B[0m\u001B[0;34m.\u001B[0m\u001B[0mclose\u001B[0m\u001B[0;34m)\u001B[0m\u001B[0;34m\u001B[0m\u001B[0;34m\u001B[0m\u001B[0m\n\u001B[1;32m      3\u001B[0m     \u001B[0mself\u001B[0m\u001B[0;34m.\u001B[0m\u001B[0mclose_array\u001B[0m \u001B[0;34m=\u001B[0m \u001B[0mpd\u001B[0m\u001B[0;34m.\u001B[0m\u001B[0mSeries\u001B[0m\u001B[0;34m(\u001B[0m\u001B[0mnp\u001B[0m\u001B[0;34m.\u001B[0m\u001B[0masarray\u001B[0m\u001B[0;34m(\u001B[0m\u001B[0mcloses\u001B[0m\u001B[0;34m)\u001B[0m\u001B[0;34m)\u001B[0m\u001B[0;34m\u001B[0m\u001B[0;34m\u001B[0m\u001B[0m\n\u001B[1;32m      4\u001B[0m     \u001B[0mprint\u001B[0m \u001B[0;34m(\u001B[0m\u001B[0;34m'self.close_array'\u001B[0m\u001B[0;34m)\u001B[0m\u001B[0;34m\u001B[0m\u001B[0;34m\u001B[0m\u001B[0m\n",
      "\u001B[0;31mNameError\u001B[0m: name 'self' is not defined"
     ]
    }
   ],
   "source": [
    "for bar in self.bars:\n",
    "    closes.append(bar.close)\n",
    "    self.close_array = pd.Series(np.asarray(closes))\n",
    "    print ('close_array')"
   ]
  },
  {
   "cell_type": "code",
   "execution_count": 5,
   "metadata": {
    "pycharm": {
     "name": "#%%\n"
    }
   },
   "outputs": [
    {
     "name": "stderr",
     "output_type": "stream",
     "text": [
      "Value ([BarData(date=datetime.datetime(2021, 12, 2, 15, 30), open=47.24, high=47.24, low=46.93, close=47.0, volume=35.17, average=47.032, barCount=19), BarData(date=datetime.datetime(2021, 12, 2, 15, 31), open=46.93, high=47.06, low=46.9, close=47.0, volume=2100.12, average=46.939, barCount=239), BarData(date=datetime.datetime(2021, 12, 2, 15, 32), open=47.05, high=47.25, low=47.04, close=47.14, volume=552.75, average=47.154, barCount=292), BarData(date=datetime.datetime(2021, 12, 2, 15, 33), open=47.15, high=47.35, low=47.11, close=47.18, volume=982.83, average=47.244, barCount=340), BarData(date=datetime.datetime(2021, 12, 2, 15, 34), open=47.17, high=47.28, low=47.01, close=47.05, volume=299.24, average=47.179, barCount=173), BarData(date=datetime.datetime(2021, 12, 2, 15, 35), open=47.14, high=47.14, low=46.94, close=47.14, volume=411.06, average=47.021, barCount=214), BarData(date=datetime.datetime(2021, 12, 2, 15, 36), open=47.13, high=47.44, low=47.13, close=47.38, volume=393.26, average=47.282, barCount=201), BarData(date=datetime.datetime(2021, 12, 2, 15, 37), open=47.37, high=47.68, low=47.37, close=47.68, volume=726.44, average=47.542, barCount=238), BarData(date=datetime.datetime(2021, 12, 2, 15, 38), open=47.68, high=47.91, low=47.64, close=47.87, volume=752.03, average=47.781, barCount=249), BarData(date=datetime.datetime(2021, 12, 2, 15, 39), open=47.85, high=48.09, low=47.72, close=48.08, volume=799.79, average=47.974, barCount=329), BarData(date=datetime.datetime(2021, 12, 2, 15, 40), open=48.1, high=48.19, low=47.81, close=47.94, volume=591.06, average=47.986, barCount=255), BarData(date=datetime.datetime(2021, 12, 2, 15, 41), open=47.97, high=48.01, low=47.73, close=47.77, volume=319.85, average=47.895, barCount=174), BarData(date=datetime.datetime(2021, 12, 2, 15, 42), open=47.77, high=48.13, low=47.7, close=48.12, volume=622.49, average=47.895, barCount=259), BarData(date=datetime.datetime(2021, 12, 2, 15, 43), open=48.12, high=48.19, low=47.94, close=48.05, volume=472.11, average=48.094, barCount=218), BarData(date=datetime.datetime(2021, 12, 2, 15, 44), open=48.05, high=48.18, low=47.95, close=48.07, volume=596.34, average=48.093, barCount=312), BarData(date=datetime.datetime(2021, 12, 2, 15, 45), open=48.08, high=48.22, low=47.9, close=48.06, volume=733.03, average=48.041, barCount=413), BarData(date=datetime.datetime(2021, 12, 2, 15, 46), open=48.06, high=48.06, low=47.76, close=47.77, volume=413.08, average=47.864, barCount=195), BarData(date=datetime.datetime(2021, 12, 2, 15, 47), open=47.76, high=47.76, low=47.5, close=47.64, volume=651.25, average=47.616, barCount=322), BarData(date=datetime.datetime(2021, 12, 2, 15, 48), open=47.61, high=47.72, low=47.47, close=47.7, volume=469.21, average=47.622, barCount=205), BarData(date=datetime.datetime(2021, 12, 2, 15, 49), open=47.69, high=47.69, low=47.35, close=47.47, volume=631.5, average=47.507, barCount=254), BarData(date=datetime.datetime(2021, 12, 2, 15, 50), open=47.45, high=47.48, low=47.24, close=47.28, volume=515.39, average=47.344, barCount=196), BarData(date=datetime.datetime(2021, 12, 2, 15, 51), open=47.26, high=47.35, low=47.15, close=47.3, volume=699.34, average=47.248, barCount=331), BarData(date=datetime.datetime(2021, 12, 2, 15, 52), open=47.27, high=47.29, low=47.15, close=47.18, volume=480.63, average=47.216, barCount=311), BarData(date=datetime.datetime(2021, 12, 2, 15, 53), open=47.17, high=47.18, low=46.86, close=47.03, volume=1784.67, average=46.999, barCount=712), BarData(date=datetime.datetime(2021, 12, 2, 15, 54), open=47.02, high=47.16, low=47.01, close=47.11, volume=803.77, average=47.1, barCount=314), BarData(date=datetime.datetime(2021, 12, 2, 15, 55), open=47.11, high=47.27, low=47.07, close=47.26, volume=463.45, average=47.176, barCount=194), BarData(date=datetime.datetime(2021, 12, 2, 15, 56), open=47.25, high=47.37, low=47.17, close=47.36, volume=262.63, average=47.24, barCount=128), BarData(date=datetime.datetime(2021, 12, 2, 15, 57), open=47.36, high=47.53, low=47.24, close=47.52, volume=531.89, average=47.394, barCount=190), BarData(date=datetime.datetime(2021, 12, 2, 15, 58), open=47.55, high=47.61, low=47.46, close=47.52, volume=353.45, average=47.529, barCount=90), BarData(date=datetime.datetime(2021, 12, 2, 15, 59), open=47.52, high=47.79, low=47.48, close=47.79, volume=702.46, average=47.632, barCount=189), BarData(date=datetime.datetime(2021, 12, 2, 16, 0), open=47.78, high=47.8, low=47.33, close=47.34, volume=802.33, average=47.606, barCount=233), BarData(date=datetime.datetime(2021, 12, 2, 16, 1), open=47.35, high=47.68, low=47.35, close=47.68, volume=423.42, average=47.543, barCount=111), BarData(date=datetime.datetime(2021, 12, 2, 16, 2), open=47.72, high=47.91, low=47.7, close=47.9, volume=538.58, average=47.795, barCount=210), BarData(date=datetime.datetime(2021, 12, 2, 16, 3), open=47.92, high=48.04, low=47.87, close=48.04, volume=394.95, average=47.96, barCount=156), BarData(date=datetime.datetime(2021, 12, 2, 16, 4), open=48.03, high=48.07, low=47.99, close=48.03, volume=266.53, average=48.033, barCount=115), BarData(date=datetime.datetime(2021, 12, 2, 16, 5), open=48.01, high=48.03, low=47.72, close=47.74, volume=598.04, average=47.932, barCount=202), BarData(date=datetime.datetime(2021, 12, 2, 16, 6), open=47.77, high=47.77, low=47.55, close=47.58, volume=395.74, average=47.675, barCount=214), BarData(date=datetime.datetime(2021, 12, 2, 16, 7), open=47.62, high=47.71, low=47.61, close=47.67, volume=353.53, average=47.679, barCount=193), BarData(date=datetime.datetime(2021, 12, 2, 16, 8), open=47.67, high=47.7, low=47.42, close=47.43, volume=401.58, average=47.527, barCount=132), BarData(date=datetime.datetime(2021, 12, 2, 16, 9), open=47.43, high=47.49, low=47.31, close=47.33, volume=684.92, average=47.39, barCount=252), BarData(date=datetime.datetime(2021, 12, 2, 16, 10), open=47.35, high=47.45, low=47.15, close=47.17, volume=699.29, average=47.272, barCount=255), BarData(date=datetime.datetime(2021, 12, 2, 16, 11), open=47.18, high=47.21, low=47.05, close=47.07, volume=952.78, average=47.107, barCount=402), BarData(date=datetime.datetime(2021, 12, 2, 16, 12), open=47.09, high=47.24, low=47.08, close=47.15, volume=571.89, average=47.152, barCount=228), BarData(date=datetime.datetime(2021, 12, 2, 16, 13), open=47.16, high=47.23, low=47.12, close=47.16, volume=232.43, average=47.168, barCount=107), BarData(date=datetime.datetime(2021, 12, 2, 16, 14), open=47.14, high=47.24, low=47.11, close=47.2, volume=283.04, average=47.176, barCount=141), BarData(date=datetime.datetime(2021, 12, 2, 16, 15), open=47.23, high=47.23, low=47.01, close=47.03, volume=514.51, average=47.073, barCount=173), BarData(date=datetime.datetime(2021, 12, 2, 16, 16), open=47.0, high=47.01, low=46.88, close=46.95, volume=817.86, average=46.946, barCount=259), BarData(date=datetime.datetime(2021, 12, 2, 16, 17), open=46.97, high=47.01, low=46.83, close=46.9, volume=569.52, average=46.918, barCount=172), BarData(date=datetime.datetime(2021, 12, 2, 16, 18), open=46.88, high=46.88, low=46.71, close=46.73, volume=988.36, average=46.79, barCount=206), BarData(date=datetime.datetime(2021, 12, 2, 16, 19), open=46.74, high=46.75, low=46.55, close=46.57, volume=1445.52, average=46.625, barCount=349), BarData(date=datetime.datetime(2021, 12, 2, 16, 20), open=46.55, high=46.72, low=46.53, close=46.68, volume=510.84, average=46.622, barCount=239), BarData(date=datetime.datetime(2021, 12, 2, 16, 21), open=46.72, high=46.82, low=46.68, close=46.79, volume=565.03, average=46.761, barCount=202), BarData(date=datetime.datetime(2021, 12, 2, 16, 22), open=46.8, high=46.92, low=46.73, close=46.81, volume=801.89, average=46.822, barCount=346), BarData(date=datetime.datetime(2021, 12, 2, 16, 23), open=46.82, high=46.9, low=46.81, close=46.88, volume=536.38, average=46.847, barCount=127), BarData(date=datetime.datetime(2021, 12, 2, 16, 24), open=46.88, high=46.96, low=46.69, close=46.92, volume=626.16, average=46.833, barCount=257), BarData(date=datetime.datetime(2021, 12, 2, 16, 25), open=46.88, high=46.88, low=46.64, close=46.7, volume=392.04, average=46.755, barCount=159), BarData(date=datetime.datetime(2021, 12, 2, 16, 26), open=46.71, high=47.22, low=46.69, close=47.2, volume=773.02, average=46.988, barCount=265), BarData(date=datetime.datetime(2021, 12, 2, 16, 27), open=47.19, high=47.38, low=47.17, close=47.26, volume=454.71, average=47.277, barCount=213), BarData(date=datetime.datetime(2021, 12, 2, 16, 28), open=47.28, high=47.29, low=47.04, close=47.15, volume=429.55, average=47.157, barCount=184), BarData(date=datetime.datetime(2021, 12, 2, 16, 29), open=47.17, high=47.3, low=47.15, close=47.25, volume=166.93, average=47.231, barCount=100), BarData(date=datetime.datetime(2021, 12, 2, 16, 30), open=47.28, high=47.4, low=47.26, close=47.36, volume=585.1, average=47.342, barCount=222), BarData(date=datetime.datetime(2021, 12, 2, 16, 31), open=47.37, high=47.42, low=47.21, close=47.29, volume=379.9, average=47.333, barCount=172), BarData(date=datetime.datetime(2021, 12, 2, 16, 32), open=47.28, high=47.28, low=47.0, close=47.04, volume=467.04, average=47.071, barCount=168), BarData(date=datetime.datetime(2021, 12, 2, 16, 33), open=47.04, high=47.04, low=46.81, close=46.82, volume=526.87, average=46.929, barCount=191), BarData(date=datetime.datetime(2021, 12, 2, 16, 34), open=46.83, high=46.85, low=46.72, close=46.83, volume=384.11, average=46.79, barCount=200), BarData(date=datetime.datetime(2021, 12, 2, 16, 35), open=46.84, high=46.86, low=46.73, close=46.84, volume=277.55, average=46.808, barCount=156), BarData(date=datetime.datetime(2021, 12, 2, 16, 36), open=46.82, high=46.97, low=46.81, close=46.89, volume=168.92, average=46.894, barCount=64), BarData(date=datetime.datetime(2021, 12, 2, 16, 37), open=46.91, high=46.97, low=46.88, close=46.93, volume=260.11, average=46.934, barCount=115), BarData(date=datetime.datetime(2021, 12, 2, 16, 38), open=46.91, high=46.95, low=46.69, close=46.69, volume=312.59, average=46.782, barCount=152), BarData(date=datetime.datetime(2021, 12, 2, 16, 39), open=46.68, high=46.79, low=46.66, close=46.79, volume=662.75, average=46.73, barCount=240), BarData(date=datetime.datetime(2021, 12, 2, 16, 40), open=46.81, high=46.89, low=46.78, close=46.89, volume=393.69, average=46.828, barCount=210), BarData(date=datetime.datetime(2021, 12, 2, 16, 41), open=46.9, high=46.98, low=46.67, close=46.68, volume=254.47, average=46.829, barCount=136), BarData(date=datetime.datetime(2021, 12, 2, 16, 42), open=46.68, high=46.71, low=46.62, close=46.68, volume=393.76, average=46.67, barCount=164), BarData(date=datetime.datetime(2021, 12, 2, 16, 43), open=46.69, high=46.71, low=46.57, close=46.64, volume=441.67, average=46.653, barCount=142), BarData(date=datetime.datetime(2021, 12, 2, 16, 44), open=46.64, high=46.68, low=46.51, close=46.53, volume=475.41, average=46.583, barCount=141), BarData(date=datetime.datetime(2021, 12, 2, 16, 45), open=46.55, high=46.62, low=46.51, close=46.55, volume=227.15, average=46.566, barCount=117), BarData(date=datetime.datetime(2021, 12, 2, 16, 46), open=46.55, high=46.74, low=46.51, close=46.74, volume=559.0, average=46.631, barCount=203), BarData(date=datetime.datetime(2021, 12, 2, 16, 47), open=46.71, high=46.88, low=46.68, close=46.85, volume=585.9, average=46.804, barCount=262), BarData(date=datetime.datetime(2021, 12, 2, 16, 48), open=46.85, high=47.05, low=46.82, close=46.98, volume=635.63, average=46.981, barCount=179), BarData(date=datetime.datetime(2021, 12, 2, 16, 49), open=46.97, high=46.99, low=46.91, close=46.99, volume=171.67, average=46.948, barCount=76), BarData(date=datetime.datetime(2021, 12, 2, 16, 50), open=46.99, high=47.12, low=46.98, close=47.11, volume=431.38, average=47.043, barCount=129), BarData(date=datetime.datetime(2021, 12, 2, 16, 51), open=47.08, high=47.15, low=46.97, close=47.0, volume=354.56, average=47.075, barCount=114), BarData(date=datetime.datetime(2021, 12, 2, 16, 52), open=47.0, high=47.07, low=46.84, close=46.94, volume=358.52, average=46.94, barCount=119), BarData(date=datetime.datetime(2021, 12, 2, 16, 53), open=46.97, high=47.0, low=46.81, close=46.83, volume=436.15, average=46.929, barCount=131), BarData(date=datetime.datetime(2021, 12, 2, 16, 54), open=46.84, high=46.9, low=46.8, close=46.86, volume=158.5, average=46.858, barCount=81), BarData(date=datetime.datetime(2021, 12, 2, 16, 55), open=46.83, high=46.94, low=46.82, close=46.94, volume=230.17, average=46.89, barCount=127), BarData(date=datetime.datetime(2021, 12, 2, 16, 56), open=46.95, high=47.08, low=46.87, close=47.07, volume=358.88, average=46.992, barCount=179), BarData(date=datetime.datetime(2021, 12, 2, 16, 57), open=47.1, high=47.36, low=47.08, close=47.33, volume=466.95, average=47.236, barCount=157), BarData(date=datetime.datetime(2021, 12, 2, 16, 58), open=47.32, high=47.54, low=47.32, close=47.4, volume=422.21, average=47.424, barCount=186), BarData(date=datetime.datetime(2021, 12, 2, 16, 59), open=47.42, high=47.45, low=47.29, close=47.3, volume=199.94, average=47.406, barCount=80), BarData(date=datetime.datetime(2021, 12, 2, 17, 0), open=47.32, high=47.36, low=47.15, close=47.16, volume=409.31, average=47.271, barCount=151), BarData(date=datetime.datetime(2021, 12, 2, 17, 1), open=47.17, high=47.17, low=47.04, close=47.09, volume=317.54, average=47.106, barCount=144), BarData(date=datetime.datetime(2021, 12, 2, 17, 2), open=47.09, high=47.22, low=47.05, close=47.17, volume=280.54, average=47.146, barCount=89), BarData(date=datetime.datetime(2021, 12, 2, 17, 3), open=47.17, high=47.22, low=47.06, close=47.16, volume=249.96, average=47.13, barCount=74), BarData(date=datetime.datetime(2021, 12, 2, 17, 4), open=47.18, high=47.23, low=47.14, close=47.23, volume=293.98, average=47.192, barCount=67), BarData(date=datetime.datetime(2021, 12, 2, 17, 5), open=47.22, high=47.28, low=47.12, close=47.12, volume=181.57, average=47.208, barCount=76), BarData(date=datetime.datetime(2021, 12, 2, 17, 6), open=47.1, high=47.25, low=47.05, close=47.25, volume=229.46, average=47.143, barCount=95), BarData(date=datetime.datetime(2021, 12, 2, 17, 7), open=47.24, high=47.32, low=47.18, close=47.28, volume=579.59, average=47.244, barCount=149), BarData(date=datetime.datetime(2021, 12, 2, 17, 8), open=47.25, high=47.34, low=47.22, close=47.32, volume=192.84, average=47.288, barCount=90), BarData(date=datetime.datetime(2021, 12, 2, 17, 9), open=47.3, high=47.35, low=47.26, close=47.35, volume=177.57, average=47.301, barCount=72), BarData(date=datetime.datetime(2021, 12, 2, 17, 10), open=47.32, high=47.36, low=47.27, close=47.3, volume=273.25, average=47.308, barCount=121), BarData(date=datetime.datetime(2021, 12, 2, 17, 11), open=47.29, high=47.29, low=47.19, close=47.25, volume=475.55, average=47.245, barCount=225), BarData(date=datetime.datetime(2021, 12, 2, 17, 12), open=47.28, high=47.37, low=47.25, close=47.34, volume=219.07, average=47.317, barCount=94), BarData(date=datetime.datetime(2021, 12, 2, 17, 13), open=47.33, high=47.34, low=47.21, close=47.26, volume=252.14, average=47.299, barCount=135), BarData(date=datetime.datetime(2021, 12, 2, 17, 14), open=47.28, high=47.37, low=47.28, close=47.29, volume=300.88, average=47.328, barCount=94), BarData(date=datetime.datetime(2021, 12, 2, 17, 15), open=47.32, high=47.48, low=47.31, close=47.44, volume=221.04, average=47.385, barCount=137), BarData(date=datetime.datetime(2021, 12, 2, 17, 16), open=47.47, high=47.5, low=47.4, close=47.47, volume=254.83, average=47.472, barCount=132), BarData(date=datetime.datetime(2021, 12, 2, 17, 17), open=47.47, high=47.6, low=47.42, close=47.54, volume=234.17, average=47.52, barCount=109), BarData(date=datetime.datetime(2021, 12, 2, 17, 18), open=47.55, high=47.59, low=47.51, close=47.52, volume=202.42, average=47.543, barCount=110), BarData(date=datetime.datetime(2021, 12, 2, 17, 19), open=47.54, high=47.54, low=47.46, close=47.52, volume=285.98, average=47.507, barCount=104), BarData(date=datetime.datetime(2021, 12, 2, 17, 20), open=47.51, high=47.64, low=47.49, close=47.59, volume=445.34, average=47.587, barCount=142), BarData(date=datetime.datetime(2021, 12, 2, 17, 21), open=47.59, high=47.68, low=47.54, close=47.65, volume=350.61, average=47.621, barCount=156), BarData(date=datetime.datetime(2021, 12, 2, 17, 22), open=47.65, high=47.73, low=47.65, close=47.66, volume=191.63, average=47.679, barCount=81), BarData(date=datetime.datetime(2021, 12, 2, 17, 23), open=47.67, high=47.74, low=47.66, close=47.73, volume=143.38, average=47.708, barCount=86), BarData(date=datetime.datetime(2021, 12, 2, 17, 24), open=47.72, high=47.72, low=47.6, close=47.65, volume=315.69, average=47.642, barCount=144), BarData(date=datetime.datetime(2021, 12, 2, 17, 25), open=47.66, high=47.73, low=47.63, close=47.66, volume=374.83, average=47.672, barCount=237), BarData(date=datetime.datetime(2021, 12, 2, 17, 26), open=47.66, high=47.69, low=47.6, close=47.62, volume=273.91, average=47.663, barCount=156), BarData(date=datetime.datetime(2021, 12, 2, 17, 27), open=47.62, high=47.74, low=47.59, close=47.73, volume=534.61, average=47.675, barCount=137), BarData(date=datetime.datetime(2021, 12, 2, 17, 28), open=47.75, high=47.83, low=47.73, close=47.83, volume=340.52, average=47.769, barCount=163), BarData(date=datetime.datetime(2021, 12, 2, 17, 29), open=47.82, high=47.85, low=47.76, close=47.77, volume=112.94, average=47.793, barCount=82), BarData(date=datetime.datetime(2021, 12, 2, 17, 30), open=47.78, high=47.83, low=47.63, close=47.63, volume=163.58, average=47.751, barCount=118), BarData(date=datetime.datetime(2021, 12, 2, 17, 31), open=47.65, high=47.66, low=47.43, close=47.43, volume=871.12, average=47.506, barCount=203), BarData(date=datetime.datetime(2021, 12, 2, 17, 32), open=47.42, high=47.46, low=47.37, close=47.43, volume=229.53, average=47.422, barCount=117), BarData(date=datetime.datetime(2021, 12, 2, 17, 33), open=47.45, high=47.45, low=47.3, close=47.38, volume=228.07, average=47.356, barCount=146), BarData(date=datetime.datetime(2021, 12, 2, 17, 34), open=47.37, high=47.43, low=47.35, close=47.36, volume=107.89, average=47.385, barCount=67), BarData(date=datetime.datetime(2021, 12, 2, 17, 35), open=47.35, high=47.45, low=47.34, close=47.37, volume=218.07, average=47.398, barCount=118), BarData(date=datetime.datetime(2021, 12, 2, 17, 36), open=47.37, high=47.41, low=47.34, close=47.39, volume=111.87, average=47.373, barCount=63), BarData(date=datetime.datetime(2021, 12, 2, 17, 37), open=47.38, high=47.49, low=47.38, close=47.49, volume=283.74, average=47.443, barCount=138), BarData(date=datetime.datetime(2021, 12, 2, 17, 38), open=47.48, high=47.66, low=47.47, close=47.63, volume=360.92, average=47.583, barCount=190), BarData(date=datetime.datetime(2021, 12, 2, 17, 39), open=47.62, high=47.63, low=47.54, close=47.54, volume=123.46, average=47.583, barCount=91), BarData(date=datetime.datetime(2021, 12, 2, 17, 40), open=47.54, high=47.69, low=47.53, close=47.69, volume=211.93, average=47.624, barCount=115), BarData(date=datetime.datetime(2021, 12, 2, 17, 41), open=47.72, high=47.77, low=47.66, close=47.68, volume=390.15, average=47.703, barCount=208), BarData(date=datetime.datetime(2021, 12, 2, 17, 42), open=47.67, high=47.68, low=47.57, close=47.59, volume=201.12, average=47.644, barCount=107), BarData(date=datetime.datetime(2021, 12, 2, 17, 43), open=47.57, high=47.61, low=47.39, close=47.41, volume=380.91, average=47.51, barCount=180), BarData(date=datetime.datetime(2021, 12, 2, 17, 44), open=47.42, high=47.46, low=47.39, close=47.4, volume=136.6, average=47.42, barCount=92), BarData(date=datetime.datetime(2021, 12, 2, 17, 45), open=47.4, high=47.43, low=47.26, close=47.37, volume=161.65, average=47.337, barCount=84), BarData(date=datetime.datetime(2021, 12, 2, 17, 46), open=47.39, high=47.39, low=47.3, close=47.32, volume=118.63, average=47.337, barCount=71), BarData(date=datetime.datetime(2021, 12, 2, 17, 47), open=47.32, high=47.32, low=47.27, close=47.32, volume=32.35, average=47.296, barCount=20), BarData(date=datetime.datetime(2021, 12, 2, 17, 48), open=47.33, high=47.39, low=47.3, close=47.39, volume=149.13, average=47.352, barCount=74), BarData(date=datetime.datetime(2021, 12, 2, 17, 49), open=47.39, high=47.62, low=47.39, close=47.59, volume=220.3, average=47.495, barCount=135), BarData(date=datetime.datetime(2021, 12, 2, 17, 50), open=47.59, high=47.67, low=47.53, close=47.65, volume=185.53, average=47.633, barCount=66), BarData(date=datetime.datetime(2021, 12, 2, 17, 51), open=47.66, high=47.68, low=47.59, close=47.68, volume=71.37, average=47.649, barCount=44), BarData(date=datetime.datetime(2021, 12, 2, 17, 52), open=47.69, high=47.69, low=47.61, close=47.64, volume=41.03, average=47.64, barCount=21), BarData(date=datetime.datetime(2021, 12, 2, 17, 53), open=47.63, high=47.7, low=47.63, close=47.65, volume=155.15, average=47.687, barCount=60), BarData(date=datetime.datetime(2021, 12, 2, 17, 54), open=47.64, high=47.73, low=47.62, close=47.73, volume=90.84, average=47.691, barCount=47), BarData(date=datetime.datetime(2021, 12, 2, 17, 55), open=47.71, high=47.71, low=47.51, close=47.54, volume=75.14, average=47.616, barCount=57), BarData(date=datetime.datetime(2021, 12, 2, 17, 56), open=47.51, high=47.56, low=47.47, close=47.48, volume=133.63, average=47.503, barCount=73), BarData(date=datetime.datetime(2021, 12, 2, 17, 57), open=47.49, high=47.59, low=47.48, close=47.59, volume=63.91, average=47.536, barCount=52), BarData(date=datetime.datetime(2021, 12, 2, 17, 58), open=47.59, high=47.69, low=47.56, close=47.69, volume=156.33, average=47.623, barCount=113), BarData(date=datetime.datetime(2021, 12, 2, 17, 59), open=47.69, high=47.73, low=47.62, close=47.62, volume=248.93, average=47.689, barCount=106), BarData(date=datetime.datetime(2021, 12, 2, 18, 0), open=47.64, high=47.68, low=47.62, close=47.64, volume=422.99, average=47.638, barCount=210), BarData(date=datetime.datetime(2021, 12, 2, 18, 1), open=47.66, high=47.69, low=47.5, close=47.61, volume=217.12, average=47.579, barCount=127), BarData(date=datetime.datetime(2021, 12, 2, 18, 2), open=47.61, high=47.8, low=47.6, close=47.79, volume=321.09, average=47.708, barCount=107), BarData(date=datetime.datetime(2021, 12, 2, 18, 3), open=47.78, high=47.88, low=47.74, close=47.87, volume=426.06, average=47.813, barCount=166), BarData(date=datetime.datetime(2021, 12, 2, 18, 4), open=47.86, high=47.89, low=47.81, close=47.83, volume=200.63, average=47.852, barCount=114), BarData(date=datetime.datetime(2021, 12, 2, 18, 5), open=47.85, high=47.86, low=47.78, close=47.83, volume=192.83, average=47.813, barCount=115), BarData(date=datetime.datetime(2021, 12, 2, 18, 6), open=47.83, high=47.93, low=47.81, close=47.87, volume=226.33, average=47.876, barCount=142), BarData(date=datetime.datetime(2021, 12, 2, 18, 7), open=47.87, high=47.87, low=47.82, close=47.85, volume=215.52, average=47.844, barCount=82), BarData(date=datetime.datetime(2021, 12, 2, 18, 8), open=47.86, high=47.94, low=47.85, close=47.94, volume=134.63, average=47.899, barCount=76), BarData(date=datetime.datetime(2021, 12, 2, 18, 9), open=47.95, high=47.98, low=47.91, close=47.94, volume=129.4, average=47.951, barCount=62), BarData(date=datetime.datetime(2021, 12, 2, 18, 10), open=47.94, high=47.96, low=47.88, close=47.88, volume=119.15, average=47.925, barCount=78), BarData(date=datetime.datetime(2021, 12, 2, 18, 11), open=47.86, high=47.92, low=47.83, close=47.86, volume=181.06, average=47.875, barCount=104), BarData(date=datetime.datetime(2021, 12, 2, 18, 12), open=47.88, high=47.9, low=47.82, close=47.88, volume=108.67, average=47.872, barCount=78), BarData(date=datetime.datetime(2021, 12, 2, 18, 13), open=47.87, high=47.87, low=47.75, close=47.83, volume=323.92, average=47.802, barCount=157), BarData(date=datetime.datetime(2021, 12, 2, 18, 14), open=47.82, high=47.9, low=47.78, close=47.9, volume=113.64, average=47.838, barCount=45), BarData(date=datetime.datetime(2021, 12, 2, 18, 15), open=47.89, high=47.93, low=47.86, close=47.93, volume=151.92, average=47.886, barCount=63), BarData(date=datetime.datetime(2021, 12, 2, 18, 16), open=47.92, high=47.94, low=47.87, close=47.93, volume=308.21, average=47.909, barCount=177), BarData(date=datetime.datetime(2021, 12, 2, 18, 17), open=47.94, high=48.02, low=47.91, close=47.98, volume=338.6, average=47.982, barCount=141), BarData(date=datetime.datetime(2021, 12, 2, 18, 18), open=47.99, high=48.0, low=47.91, close=47.96, volume=69.85, average=47.944, barCount=49), BarData(date=datetime.datetime(2021, 12, 2, 18, 19), open=47.96, high=47.96, low=47.86, close=47.86, volume=300.55, average=47.912, barCount=117), BarData(date=datetime.datetime(2021, 12, 2, 18, 20), open=47.88, high=47.92, low=47.86, close=47.91, volume=115.16, average=47.894, barCount=89), BarData(date=datetime.datetime(2021, 12, 2, 18, 21), open=47.92, high=48.03, low=47.92, close=48.02, volume=139.7, average=47.984, barCount=85), BarData(date=datetime.datetime(2021, 12, 2, 18, 22), open=48.0, high=48.02, low=47.94, close=47.96, volume=113.1, average=47.98, barCount=58), BarData(date=datetime.datetime(2021, 12, 2, 18, 23), open=47.96, high=48.02, low=47.94, close=48.0, volume=233.95, average=47.996, barCount=112), BarData(date=datetime.datetime(2021, 12, 2, 18, 24), open=47.97, high=48.05, low=47.95, close=48.04, volume=123.59, average=47.986, barCount=82), BarData(date=datetime.datetime(2021, 12, 2, 18, 25), open=48.03, high=48.09, low=47.98, close=48.03, volume=184.31, average=48.017, barCount=74), BarData(date=datetime.datetime(2021, 12, 2, 18, 26), open=48.04, high=48.08, low=48.04, close=48.08, volume=141.96, average=48.061, barCount=76), BarData(date=datetime.datetime(2021, 12, 2, 18, 27), open=48.07, high=48.09, low=48.02, close=48.07, volume=106.31, average=48.058, barCount=62), BarData(date=datetime.datetime(2021, 12, 2, 18, 28), open=48.07, high=48.08, low=48.0, close=48.03, volume=182.16, average=48.038, barCount=90), BarData(date=datetime.datetime(2021, 12, 2, 18, 29), open=48.03, high=48.05, low=47.96, close=48.01, volume=447.58, average=48.017, barCount=266), BarData(date=datetime.datetime(2021, 12, 2, 18, 30), open=48.0, high=48.05, low=47.99, close=48.0, volume=351.11, average=48.008, barCount=200), BarData(date=datetime.datetime(2021, 12, 2, 18, 31), open=48.01, high=48.01, low=47.91, close=47.97, volume=307.78, average=47.96, barCount=119), BarData(date=datetime.datetime(2021, 12, 2, 18, 32), open=48.0, high=48.02, low=47.89, close=47.89, volume=183.0, average=47.962, barCount=82), BarData(date=datetime.datetime(2021, 12, 2, 18, 33), open=47.91, high=48.04, low=47.91, close=48.03, volume=305.6, average=47.973, barCount=174), BarData(date=datetime.datetime(2021, 12, 2, 18, 34), open=48.03, high=48.07, low=47.92, close=47.92, volume=284.51, average=47.998, barCount=177), BarData(date=datetime.datetime(2021, 12, 2, 18, 35), open=47.94, high=47.95, low=47.78, close=47.83, volume=339.02, average=47.856, barCount=154), BarData(date=datetime.datetime(2021, 12, 2, 18, 36), open=47.81, high=47.92, low=47.8, close=47.88, volume=103.51, average=47.861, barCount=61), BarData(date=datetime.datetime(2021, 12, 2, 18, 37), open=47.91, high=47.94, low=47.87, close=47.94, volume=141.19, average=47.9, barCount=66), BarData(date=datetime.datetime(2021, 12, 2, 18, 38), open=47.92, high=47.95, low=47.91, close=47.93, volume=164.78, average=47.927, barCount=100), BarData(date=datetime.datetime(2021, 12, 2, 18, 39), open=47.93, high=47.96, low=47.83, close=47.85, volume=246.41, average=47.879, barCount=120), BarData(date=datetime.datetime(2021, 12, 2, 18, 40), open=47.84, high=48.01, low=47.84, close=47.96, volume=190.45, average=47.928, barCount=106), BarData(date=datetime.datetime(2021, 12, 2, 18, 41), open=47.95, high=48.0, low=47.9, close=48.0, volume=127.71, average=47.943, barCount=56), BarData(date=datetime.datetime(2021, 12, 2, 18, 42), open=47.99, high=48.0, low=47.92, close=47.96, volume=99.06, average=47.969, barCount=67), BarData(date=datetime.datetime(2021, 12, 2, 18, 43), open=47.94, high=47.98, low=47.86, close=47.94, volume=100.49, average=47.922, barCount=66), BarData(date=datetime.datetime(2021, 12, 2, 18, 44), open=47.93, high=47.96, low=47.87, close=47.9, volume=64.11, average=47.931, barCount=38), BarData(date=datetime.datetime(2021, 12, 2, 18, 45), open=47.91, high=48.03, low=47.89, close=47.97, volume=287.85, average=47.969, barCount=87), BarData(date=datetime.datetime(2021, 12, 2, 18, 46), open=47.97, high=47.97, low=47.91, close=47.96, volume=126.93, average=47.94, barCount=64), BarData(date=datetime.datetime(2021, 12, 2, 18, 47), open=47.95, high=48.02, low=47.94, close=47.99, volume=135.83, average=47.988, barCount=84), BarData(date=datetime.datetime(2021, 12, 2, 18, 48), open=48.01, high=48.08, low=47.99, close=48.08, volume=181.36, average=48.045, barCount=98), BarData(date=datetime.datetime(2021, 12, 2, 18, 49), open=48.06, high=48.15, low=48.06, close=48.11, volume=138.59, average=48.125, barCount=88), BarData(date=datetime.datetime(2021, 12, 2, 18, 50), open=48.11, high=48.11, low=47.99, close=48.03, volume=159.65, average=48.057, barCount=107), BarData(date=datetime.datetime(2021, 12, 2, 18, 51), open=48.05, high=48.06, low=47.92, close=47.92, volume=190.88, average=47.991, barCount=113), BarData(date=datetime.datetime(2021, 12, 2, 18, 52), open=47.93, high=47.96, low=47.86, close=47.89, volume=305.51, average=47.919, barCount=139), BarData(date=datetime.datetime(2021, 12, 2, 18, 53), open=47.88, high=47.88, low=47.8, close=47.84, volume=207.47, average=47.841, barCount=122), BarData(date=datetime.datetime(2021, 12, 2, 18, 54), open=47.85, high=47.87, low=47.73, close=47.87, volume=217.45, average=47.803, barCount=133), BarData(date=datetime.datetime(2021, 12, 2, 18, 55), open=47.87, high=47.93, low=47.87, close=47.92, volume=127.14, average=47.888, barCount=76), BarData(date=datetime.datetime(2021, 12, 2, 18, 56), open=47.92, high=47.92, low=47.8, close=47.86, volume=247.0, average=47.85, barCount=166), BarData(date=datetime.datetime(2021, 12, 2, 18, 57), open=47.88, high=47.91, low=47.84, close=47.84, volume=203.71, average=47.887, barCount=92), BarData(date=datetime.datetime(2021, 12, 2, 18, 58), open=47.84, high=47.84, low=47.7, close=47.76, volume=267.42, average=47.771, barCount=124), BarData(date=datetime.datetime(2021, 12, 2, 18, 59), open=47.77, high=47.88, low=47.77, close=47.82, volume=194.17, average=47.817, barCount=131), BarData(date=datetime.datetime(2021, 12, 2, 19, 0), open=47.84, high=47.85, low=47.58, close=47.68, volume=397.86, average=47.686, barCount=199), BarData(date=datetime.datetime(2021, 12, 2, 19, 1), open=47.69, high=47.75, low=47.67, close=47.71, volume=62.01, average=47.7, barCount=56), BarData(date=datetime.datetime(2021, 12, 2, 19, 2), open=47.73, high=47.79, low=47.7, close=47.73, volume=683.09, average=47.747, barCount=138), BarData(date=datetime.datetime(2021, 12, 2, 19, 3), open=47.7, high=47.71, low=47.63, close=47.65, volume=179.81, average=47.664, barCount=75), BarData(date=datetime.datetime(2021, 12, 2, 19, 4), open=47.65, high=47.73, low=47.58, close=47.72, volume=176.4, average=47.647, barCount=128), BarData(date=datetime.datetime(2021, 12, 2, 19, 5), open=47.74, high=47.76, low=47.67, close=47.67, volume=121.45, average=47.724, barCount=82), BarData(date=datetime.datetime(2021, 12, 2, 19, 6), open=47.66, high=47.71, low=47.65, close=47.66, volume=87.29, average=47.678, barCount=61), BarData(date=datetime.datetime(2021, 12, 2, 19, 7), open=47.67, high=47.69, low=47.62, close=47.63, volume=70.05, average=47.648, barCount=52), BarData(date=datetime.datetime(2021, 12, 2, 19, 8), open=47.64, high=47.64, low=47.53, close=47.6, volume=223.21, average=47.589, barCount=143), BarData(date=datetime.datetime(2021, 12, 2, 19, 9), open=47.62, high=47.68, low=47.58, close=47.63, volume=152.94, average=47.628, barCount=111), BarData(date=datetime.datetime(2021, 12, 2, 19, 10), open=47.65, high=47.65, low=47.51, close=47.53, volume=292.82, average=47.542, barCount=117), BarData(date=datetime.datetime(2021, 12, 2, 19, 11), open=47.56, high=47.63, low=47.54, close=47.59, volume=76.6, average=47.592, barCount=65), BarData(date=datetime.datetime(2021, 12, 2, 19, 12), open=47.6, high=47.63, low=47.58, close=47.63, volume=135.94, average=47.593, barCount=56), BarData(date=datetime.datetime(2021, 12, 2, 19, 13), open=47.63, high=47.66, low=47.61, close=47.62, volume=148.45, average=47.628, barCount=111), BarData(date=datetime.datetime(2021, 12, 2, 19, 14), open=47.65, high=47.68, low=47.63, close=47.67, volume=104.3, average=47.657, barCount=73), BarData(date=datetime.datetime(2021, 12, 2, 19, 15), open=47.68, high=47.68, low=47.58, close=47.65, volume=183.45, average=47.626, barCount=93), BarData(date=datetime.datetime(2021, 12, 2, 19, 16), open=47.66, high=47.69, low=47.61, close=47.63, volume=117.87, average=47.661, barCount=68), BarData(date=datetime.datetime(2021, 12, 2, 19, 17), open=47.61, high=47.62, low=47.54, close=47.58, volume=140.05, average=47.572, barCount=84), BarData(date=datetime.datetime(2021, 12, 2, 19, 18), open=47.6, high=47.61, low=47.54, close=47.58, volume=71.18, average=47.583, barCount=45), BarData(date=datetime.datetime(2021, 12, 2, 19, 19), open=47.59, high=47.63, low=47.56, close=47.62, volume=92.55, average=47.596, barCount=53), BarData(date=datetime.datetime(2021, 12, 2, 19, 20), open=47.63, high=47.64, low=47.44, close=47.51, volume=154.36, average=47.526, barCount=91), BarData(date=datetime.datetime(2021, 12, 2, 19, 21), open=47.51, high=47.54, low=47.46, close=47.49, volume=103.8, average=47.502, barCount=59), BarData(date=datetime.datetime(2021, 12, 2, 19, 22), open=47.5, high=47.53, low=47.37, close=47.41, volume=201.86, average=47.432, barCount=97), BarData(date=datetime.datetime(2021, 12, 2, 19, 23), open=47.43, high=47.45, low=47.32, close=47.33, volume=120.08, average=47.377, barCount=78), BarData(date=datetime.datetime(2021, 12, 2, 19, 24), open=47.35, high=47.41, low=47.27, close=47.28, volume=625.34, average=47.316, barCount=381), BarData(date=datetime.datetime(2021, 12, 2, 19, 25), open=47.28, high=47.38, low=47.28, close=47.34, volume=387.97, average=47.332, barCount=189), BarData(date=datetime.datetime(2021, 12, 2, 19, 26), open=47.35, high=47.38, low=47.23, close=47.26, volume=253.35, average=47.304, barCount=103), BarData(date=datetime.datetime(2021, 12, 2, 19, 27), open=47.27, high=47.34, low=47.25, close=47.28, volume=239.87, average=47.289, barCount=106), BarData(date=datetime.datetime(2021, 12, 2, 19, 28), open=47.27, high=47.32, low=47.26, close=47.3, volume=109.19, average=47.285, barCount=59), BarData(date=datetime.datetime(2021, 12, 2, 19, 29), open=47.29, high=47.29, low=47.16, close=47.23, volume=183.81, average=47.221, barCount=83), BarData(date=datetime.datetime(2021, 12, 2, 19, 30), open=47.24, high=47.25, low=47.07, close=47.09, volume=279.94, average=47.135, barCount=171), BarData(date=datetime.datetime(2021, 12, 2, 19, 31), open=47.1, high=47.19, low=47.08, close=47.19, volume=234.16, average=47.129, barCount=113), BarData(date=datetime.datetime(2021, 12, 2, 19, 32), open=47.19, high=47.32, low=47.16, close=47.29, volume=288.25, average=47.236, barCount=63), BarData(date=datetime.datetime(2021, 12, 2, 19, 33), open=47.28, high=47.39, low=47.25, close=47.36, volume=82.1, average=47.335, barCount=51), BarData(date=datetime.datetime(2021, 12, 2, 19, 34), open=47.35, high=47.42, low=47.33, close=47.4, volume=82.86, average=47.38, barCount=37), BarData(date=datetime.datetime(2021, 12, 2, 19, 35), open=47.41, high=47.41, low=47.25, close=47.31, volume=120.32, average=47.311, barCount=47), BarData(date=datetime.datetime(2021, 12, 2, 19, 36), open=47.3, high=47.33, low=47.26, close=47.33, volume=131.22, average=47.293, barCount=85), BarData(date=datetime.datetime(2021, 12, 2, 19, 37), open=47.34, high=47.35, low=47.29, close=47.32, volume=53.37, average=47.326, barCount=31), BarData(date=datetime.datetime(2021, 12, 2, 19, 38), open=47.35, high=47.46, low=47.35, close=47.39, volume=96.8, average=47.411, barCount=75), BarData(date=datetime.datetime(2021, 12, 2, 19, 39), open=47.41, high=47.47, low=47.4, close=47.46, volume=98.92, average=47.44, barCount=39), BarData(date=datetime.datetime(2021, 12, 2, 19, 40), open=47.46, high=47.51, low=47.42, close=47.5, volume=187.4, average=47.445, barCount=84), BarData(date=datetime.datetime(2021, 12, 2, 19, 41), open=47.49, high=47.49, low=47.32, close=47.32, volume=160.59, average=47.415, barCount=68), BarData(date=datetime.datetime(2021, 12, 2, 19, 42), open=47.31, high=47.45, low=47.31, close=47.42, volume=120.24, average=47.394, barCount=57), BarData(date=datetime.datetime(2021, 12, 2, 19, 43), open=47.44, high=47.46, low=47.42, close=47.43, volume=40.86, average=47.43111111111111, barCount=28)], False) caused exception for event Event<updateEvent, [[None, None, <function onBarUpdate at 0x7fe07a6890d0>]]>\n",
      "Traceback (most recent call last):\n",
      "  File \"/home/henrik/.local/lib/python3.8/site-packages/eventkit/event.py\", line 186, in emit\n",
      "    result = func(*args)\n",
      "  File \"/tmp/ipykernel_100513/3760470417.py\", line 2, in onBarUpdate\n",
      "    lastBar = self.bars[len(bars) - 1]\n",
      "AttributeError: 'BarDataList' object has no attribute 'bars'\n"
     ]
    }
   ],
   "source": [
    "def onBarUpdate(self, hasNewBar):\n",
    "    lastBar = self.bars[len(bars) - 1]\n",
    "    print ('lastbar')\n",
    "\n",
    "    # On Bar Close\n",
    "    closes = []\n",
    "    highs = []\n",
    "    lows = []\n",
    "    for bar in self.bars:\n",
    "        closes.append(bar.close)\n",
    "        highs.append(bar.high)\n",
    "        lows.append(bar.low)\n",
    "    close_array = pd.Series(np.asarray(closes))\n",
    "    high_array = pd.Series(np.asarray(highs))\n",
    "    low_array = pd.Series(np.asarray(lows))\n",
    "\n",
    "    # Calculate Higher Highs and Lows\n",
    "    lastLow = bars[len(bars) - 1].low\n",
    "    lastHigh = bars[len(bars) - 1].high\n",
    "    lastClose = bars[len(bars) - 1].close\n",
    "    lastOpen = lastBar.open\n",
    "    lastVolume = lastBar.volume\n",
    "\n",
    "    # SMA\n",
    "    sma = ta.trend.sma_indicator(close_array, 20)\n",
    "    print(\"SMA : \" + str(sma[len(sma) - 1]))\n",
    "    print(\"Close : \" + str(bars[len(bars) - 1].close))\n",
    "    print('prevHigh :' + str(bars[len(bars) - 2].high))\n",
    "    print('prevLow :' + str(bars[len(bars) - 2].low))\n",
    "    print(\"_____\")\n",
    "\n",
    "    # RSI > 40, < 30\n",
    "    #self.rsi = talib.RSI(self.bars[0].close)\n",
    "    #print('RSI : ' + self.rsi)\n",
    "    # self.stochrsi = ta.momentum.StochasticOscillator(self.close_array, self.rsi_window,\n",
    "    # self.smooth_window1, self.smooth_window2, True)\n",
    "\n",
    "    # MACD\n",
    "    # self.macd = ta.trend.MACD(self.close_array,self.macd_window_slow, self.macd_window_fast,\n",
    "    #                          self.macd_window_sign,self.fillna)\n",
    "\n",
    "    # Check Criteria\n",
    "    # Entry - If we have a higher high, a higher low and we cross the 50 SMA - Buy\n",
    "    if (bar.close > lastClose\n",
    "            and self.currentBar.low > lastLow\n",
    "            and bar.close > str(self.sma[len(self.sma) - 1])\n",
    "            and lastClose < str(self.sma[len(self.sma) - 2])):\n",
    "                print ('Starategy True')\n",
    "    \n",
    "\n",
    "bars.updateEvent += onBarUpdate\n",
    "\n",
    "ib.sleep(5)\n",
    "ib.disconnect()"
   ]
  },
  {
   "cell_type": "code",
   "execution_count": null,
   "metadata": {},
   "outputs": [],
   "source": []
  },
  {
   "cell_type": "code",
   "execution_count": null,
   "metadata": {},
   "outputs": [],
   "source": []
  }
 ],
 "metadata": {
  "kernelspec": {
   "display_name": "Python 3 (ipykernel)",
   "language": "python",
   "name": "python3"
  },
  "language_info": {
   "codemirror_mode": {
    "name": "ipython",
    "version": 3
   },
   "file_extension": ".py",
   "mimetype": "text/x-python",
   "name": "python",
   "nbconvert_exporter": "python",
   "pygments_lexer": "ipython3",
   "version": "3.8.10"
  }
 },
 "nbformat": 4,
 "nbformat_minor": 1
}